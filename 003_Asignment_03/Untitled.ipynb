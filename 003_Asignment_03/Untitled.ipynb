{
 "cells": [
  {
   "cell_type": "markdown",
   "id": "e7beb872",
   "metadata": {},
   "source": [
    "# Assignment 3 - LNG Terminals & Electricity Markets\n",
    "## Task 1: LNG Terminals [30 points]\n",
    "#### Required Tools: geopandas, pandas, matplotlib, cartopy\n",
    "##### In this task, you will analyse data from the Global Gas Infrastructure Tracker published by Global Energy Monitor. This dataset includes data on liquefied natural gas (LNG) import and export terminals around the globe. You can find the dataset here:\n",
    "##### File: https://tubcloud.tu-berlin.de/s/QWXsKqHTnfWxRzj/download/GEM-GGIT-LNG-Terminals-July2022.xlsx\n",
    "##### [2 points] (a) Read the Excel table into a pandas.DataFrame using the pd.read_excel function. Make sure to identify the following strings as NaN values when reading in the file: “Unknown”, “TBD”, “–”, ” “."
   ]
  },
  {
   "cell_type": "code",
   "execution_count": 2,
   "id": "969646cc",
   "metadata": {},
   "outputs": [],
   "source": [
    "import pandas as pd\n",
    "import geopandas as gpd\n",
    "import numpy as np\n",
    "import matplotlib.pyplot as plot\n",
    "\n",
    "import warnings\n"
   ]
  },
  {
   "cell_type": "code",
   "execution_count": 10,
   "id": "96f6ce03",
   "metadata": {},
   "outputs": [
    {
     "data": {
      "text/html": [
       "<div>\n",
       "<style scoped>\n",
       "    .dataframe tbody tr th:only-of-type {\n",
       "        vertical-align: middle;\n",
       "    }\n",
       "\n",
       "    .dataframe tbody tr th {\n",
       "        vertical-align: top;\n",
       "    }\n",
       "\n",
       "    .dataframe thead th {\n",
       "        text-align: right;\n",
       "    }\n",
       "</style>\n",
       "<table border=\"1\" class=\"dataframe\">\n",
       "  <thead>\n",
       "    <tr style=\"text-align: right;\">\n",
       "      <th></th>\n",
       "      <th>TerminalID</th>\n",
       "      <th>ProjectID</th>\n",
       "      <th>Country</th>\n",
       "      <th>Region</th>\n",
       "      <th>Wiki</th>\n",
       "      <th>TerminalName</th>\n",
       "      <th>UnitName</th>\n",
       "      <th>OtherEnglishNames</th>\n",
       "      <th>Owner</th>\n",
       "      <th>Parent</th>\n",
       "      <th>...</th>\n",
       "      <th>State/Province</th>\n",
       "      <th>Latitude</th>\n",
       "      <th>Longitude</th>\n",
       "      <th>Accuracy</th>\n",
       "      <th>Floating</th>\n",
       "      <th>FID</th>\n",
       "      <th>FIDYear</th>\n",
       "      <th>OtherLanguageName</th>\n",
       "      <th>PowerPlantsSupplied</th>\n",
       "      <th>OtherLanguageWikiPage</th>\n",
       "    </tr>\n",
       "    <tr>\n",
       "      <th>ComboID</th>\n",
       "      <th></th>\n",
       "      <th></th>\n",
       "      <th></th>\n",
       "      <th></th>\n",
       "      <th></th>\n",
       "      <th></th>\n",
       "      <th></th>\n",
       "      <th></th>\n",
       "      <th></th>\n",
       "      <th></th>\n",
       "      <th></th>\n",
       "      <th></th>\n",
       "      <th></th>\n",
       "      <th></th>\n",
       "      <th></th>\n",
       "      <th></th>\n",
       "      <th></th>\n",
       "      <th></th>\n",
       "      <th></th>\n",
       "      <th></th>\n",
       "      <th></th>\n",
       "    </tr>\n",
       "  </thead>\n",
       "  <tbody>\n",
       "    <tr>\n",
       "      <th>T020501</th>\n",
       "      <td>T0205</td>\n",
       "      <td>1</td>\n",
       "      <td>United States</td>\n",
       "      <td>North America</td>\n",
       "      <td>https://www.gem.wiki/Fourchon_LNG_Terminal</td>\n",
       "      <td>Fourchon LNG Terminal</td>\n",
       "      <td>Phase 1</td>\n",
       "      <td>Gulf Coast LNG Terminal</td>\n",
       "      <td>Fourchon LNG LLC [100.00%]</td>\n",
       "      <td>Energy World [100.00%]</td>\n",
       "      <td>...</td>\n",
       "      <td>Louisiana</td>\n",
       "      <td>29.105833</td>\n",
       "      <td>-90.194444</td>\n",
       "      <td>approximate</td>\n",
       "      <td>NaN</td>\n",
       "      <td>Pre-FID</td>\n",
       "      <td>NaN</td>\n",
       "      <td>NaN</td>\n",
       "      <td>NaN</td>\n",
       "      <td>NaN</td>\n",
       "    </tr>\n",
       "    <tr>\n",
       "      <th>T020502</th>\n",
       "      <td>T0205</td>\n",
       "      <td>2</td>\n",
       "      <td>United States</td>\n",
       "      <td>North America</td>\n",
       "      <td>https://www.gem.wiki/Fourchon_LNG_Terminal</td>\n",
       "      <td>Fourchon LNG Terminal</td>\n",
       "      <td>Phase 2</td>\n",
       "      <td>Gulf Coast LNG Terminal</td>\n",
       "      <td>Fourchon LNG LLC [100.00%]</td>\n",
       "      <td>Energy World [100.00%]</td>\n",
       "      <td>...</td>\n",
       "      <td>Louisiana</td>\n",
       "      <td>29.105833</td>\n",
       "      <td>-90.194444</td>\n",
       "      <td>approximate</td>\n",
       "      <td>NaN</td>\n",
       "      <td>Pre-FID</td>\n",
       "      <td>NaN</td>\n",
       "      <td>NaN</td>\n",
       "      <td>NaN</td>\n",
       "      <td>NaN</td>\n",
       "    </tr>\n",
       "    <tr>\n",
       "      <th>T020601</th>\n",
       "      <td>T0206</td>\n",
       "      <td>1</td>\n",
       "      <td>United States</td>\n",
       "      <td>North America</td>\n",
       "      <td>https://www.gem.wiki/Alaska_South_Central_LNG_...</td>\n",
       "      <td>Alaska LNG Terminal</td>\n",
       "      <td>T1</td>\n",
       "      <td>Alaska South Central LNG Terminal</td>\n",
       "      <td>Alaska Gasline Development Corporation [100.00%]</td>\n",
       "      <td>State of Alaska [100.00%]</td>\n",
       "      <td>...</td>\n",
       "      <td>Alaska</td>\n",
       "      <td>60.707778</td>\n",
       "      <td>-151.262778</td>\n",
       "      <td>approximate</td>\n",
       "      <td>NaN</td>\n",
       "      <td>Pre-FID</td>\n",
       "      <td>2021</td>\n",
       "      <td>NaN</td>\n",
       "      <td>NaN</td>\n",
       "      <td>NaN</td>\n",
       "    </tr>\n",
       "    <tr>\n",
       "      <th>T020602</th>\n",
       "      <td>T0206</td>\n",
       "      <td>2</td>\n",
       "      <td>United States</td>\n",
       "      <td>North America</td>\n",
       "      <td>https://www.gem.wiki/Alaska_South_Central_LNG_...</td>\n",
       "      <td>Alaska LNG Terminal</td>\n",
       "      <td>T2</td>\n",
       "      <td>Alaska South Central LNG Terminal</td>\n",
       "      <td>Alaska Gasline Development Corporation [100.00%]</td>\n",
       "      <td>State of Alaska [100.00%]</td>\n",
       "      <td>...</td>\n",
       "      <td>Alaska</td>\n",
       "      <td>60.707778</td>\n",
       "      <td>-151.262778</td>\n",
       "      <td>approximate</td>\n",
       "      <td>NaN</td>\n",
       "      <td>Pre-FID</td>\n",
       "      <td>2021</td>\n",
       "      <td>NaN</td>\n",
       "      <td>NaN</td>\n",
       "      <td>NaN</td>\n",
       "    </tr>\n",
       "    <tr>\n",
       "      <th>T020603</th>\n",
       "      <td>T0206</td>\n",
       "      <td>3</td>\n",
       "      <td>United States</td>\n",
       "      <td>North America</td>\n",
       "      <td>https://www.gem.wiki/Alaska_South_Central_LNG_...</td>\n",
       "      <td>Alaska LNG Terminal</td>\n",
       "      <td>T3</td>\n",
       "      <td>Alaska South Central LNG Terminal</td>\n",
       "      <td>Alaska Gasline Development Corporation [100.00%]</td>\n",
       "      <td>State of Alaska [100.00%]</td>\n",
       "      <td>...</td>\n",
       "      <td>Alaska</td>\n",
       "      <td>60.707778</td>\n",
       "      <td>-151.262778</td>\n",
       "      <td>approximate</td>\n",
       "      <td>NaN</td>\n",
       "      <td>Pre-FID</td>\n",
       "      <td>2021</td>\n",
       "      <td>NaN</td>\n",
       "      <td>NaN</td>\n",
       "      <td>NaN</td>\n",
       "    </tr>\n",
       "  </tbody>\n",
       "</table>\n",
       "<p>5 rows × 31 columns</p>\n",
       "</div>"
      ],
      "text/plain": [
       "        TerminalID  ProjectID        Country         Region  \\\n",
       "ComboID                                                       \n",
       "T020501      T0205          1  United States  North America   \n",
       "T020502      T0205          2  United States  North America   \n",
       "T020601      T0206          1  United States  North America   \n",
       "T020602      T0206          2  United States  North America   \n",
       "T020603      T0206          3  United States  North America   \n",
       "\n",
       "                                                      Wiki  \\\n",
       "ComboID                                                      \n",
       "T020501         https://www.gem.wiki/Fourchon_LNG_Terminal   \n",
       "T020502         https://www.gem.wiki/Fourchon_LNG_Terminal   \n",
       "T020601  https://www.gem.wiki/Alaska_South_Central_LNG_...   \n",
       "T020602  https://www.gem.wiki/Alaska_South_Central_LNG_...   \n",
       "T020603  https://www.gem.wiki/Alaska_South_Central_LNG_...   \n",
       "\n",
       "                  TerminalName UnitName                  OtherEnglishNames  \\\n",
       "ComboID                                                                      \n",
       "T020501  Fourchon LNG Terminal  Phase 1            Gulf Coast LNG Terminal   \n",
       "T020502  Fourchon LNG Terminal  Phase 2            Gulf Coast LNG Terminal   \n",
       "T020601    Alaska LNG Terminal       T1  Alaska South Central LNG Terminal   \n",
       "T020602    Alaska LNG Terminal       T2  Alaska South Central LNG Terminal   \n",
       "T020603    Alaska LNG Terminal       T3  Alaska South Central LNG Terminal   \n",
       "\n",
       "                                                    Owner  \\\n",
       "ComboID                                                     \n",
       "T020501                        Fourchon LNG LLC [100.00%]   \n",
       "T020502                        Fourchon LNG LLC [100.00%]   \n",
       "T020601  Alaska Gasline Development Corporation [100.00%]   \n",
       "T020602  Alaska Gasline Development Corporation [100.00%]   \n",
       "T020603  Alaska Gasline Development Corporation [100.00%]   \n",
       "\n",
       "                            Parent  ... State/Province   Latitude   Longitude  \\\n",
       "ComboID                             ...                                         \n",
       "T020501     Energy World [100.00%]  ...      Louisiana  29.105833  -90.194444   \n",
       "T020502     Energy World [100.00%]  ...      Louisiana  29.105833  -90.194444   \n",
       "T020601  State of Alaska [100.00%]  ...         Alaska  60.707778 -151.262778   \n",
       "T020602  State of Alaska [100.00%]  ...         Alaska  60.707778 -151.262778   \n",
       "T020603  State of Alaska [100.00%]  ...         Alaska  60.707778 -151.262778   \n",
       "\n",
       "            Accuracy Floating      FID FIDYear OtherLanguageName  \\\n",
       "ComboID                                                            \n",
       "T020501  approximate      NaN  Pre-FID     NaN               NaN   \n",
       "T020502  approximate      NaN  Pre-FID     NaN               NaN   \n",
       "T020601  approximate      NaN  Pre-FID    2021               NaN   \n",
       "T020602  approximate      NaN  Pre-FID    2021               NaN   \n",
       "T020603  approximate      NaN  Pre-FID    2021               NaN   \n",
       "\n",
       "        PowerPlantsSupplied OtherLanguageWikiPage  \n",
       "ComboID                                            \n",
       "T020501                 NaN                   NaN  \n",
       "T020502                 NaN                   NaN  \n",
       "T020601                 NaN                   NaN  \n",
       "T020602                 NaN                   NaN  \n",
       "T020603                 NaN                   NaN  \n",
       "\n",
       "[5 rows x 31 columns]"
      ]
     },
     "execution_count": 10,
     "metadata": {},
     "output_type": "execute_result"
    }
   ],
   "source": [
    "df = pd.read_excel(\"GEM-GGIT-LNG-Terminals-July2022.xlsx\", na_values=[\"Unknown\", \"TBD\", \"–\", \"\"], index_col = \"ComboID\")\n",
    "df.head(5)"
   ]
  },
  {
   "cell_type": "markdown",
   "id": "6018f287",
   "metadata": {},
   "source": [
    "#### [2 points] (b) Using the coordinates included in the dataset, build a geopandas.GeoDataFrame."
   ]
  },
  {
   "cell_type": "code",
   "execution_count": null,
   "id": "9306011b",
   "metadata": {},
   "outputs": [],
   "source": []
  },
  {
   "cell_type": "markdown",
   "id": "7d63c9f9",
   "metadata": {},
   "source": [
    "#### [2 points] (c) Convert the capacities given in Mtpa (mega tonnes per year) into TWh and store the resulting values in a new column “CapacityInTWh”."
   ]
  },
  {
   "cell_type": "code",
   "execution_count": null,
   "id": "36f4c44d",
   "metadata": {},
   "outputs": [],
   "source": []
  },
  {
   "cell_type": "markdown",
   "id": "548c62b6",
   "metadata": {},
   "source": [
    "#### [2 points] (d) How many LNG terminals are included in the dataset and what is the median capacity in TWh?"
   ]
  },
  {
   "cell_type": "code",
   "execution_count": null,
   "id": "97555382",
   "metadata": {},
   "outputs": [],
   "source": []
  },
  {
   "cell_type": "markdown",
   "id": "2efa5a31",
   "metadata": {},
   "source": [
    "#### [2 points] (e) What share of import terminals is floating?"
   ]
  },
  {
   "cell_type": "code",
   "execution_count": null,
   "id": "4e27f6d8",
   "metadata": {},
   "outputs": [],
   "source": []
  },
  {
   "cell_type": "markdown",
   "id": "b93f9ee3",
   "metadata": {},
   "source": [
    "#### [2 points] (f) Print the information of the oldest operating LNG terminal. In which country is it located?"
   ]
  },
  {
   "cell_type": "code",
   "execution_count": null,
   "id": "5124ba95",
   "metadata": {},
   "outputs": [],
   "source": []
  },
  {
   "cell_type": "markdown",
   "id": "1c2df21a",
   "metadata": {},
   "source": [
    "#### [2 points] (g) Create a bar plot outlining the 10 countries with the largest LNG terminal capacity."
   ]
  },
  {
   "cell_type": "code",
   "execution_count": null,
   "id": "e9319001",
   "metadata": {},
   "outputs": [],
   "source": []
  },
  {
   "cell_type": "markdown",
   "id": "75649ecf",
   "metadata": {},
   "source": [
    "#### [2 points] (h) Create a bar plot outlining the LNG terminal capacity per status code."
   ]
  },
  {
   "cell_type": "code",
   "execution_count": null,
   "id": "9311a159",
   "metadata": {},
   "outputs": [],
   "source": []
  },
  {
   "cell_type": "markdown",
   "id": "ce2a1c28",
   "metadata": {},
   "source": [
    "#### [2 points] (i) Create a table of the German LNG terminals including information on the name, status, capacity, owner, whether it is floating, and sorted by aspired start year."
   ]
  },
  {
   "cell_type": "code",
   "execution_count": null,
   "id": "50c05410",
   "metadata": {},
   "outputs": [],
   "source": []
  },
  {
   "cell_type": "markdown",
   "id": "df7f5da2",
   "metadata": {},
   "source": [
    "#### [2 points] (i) Create a table of the German LNG terminals including information on the name, status, capacity, owner, whether it is floating, and sorted by aspired start year."
   ]
  },
  {
   "cell_type": "code",
   "execution_count": null,
   "id": "f46481e7",
   "metadata": {},
   "outputs": [],
   "source": []
  },
  {
   "cell_type": "markdown",
   "id": "d004e3e6",
   "metadata": {},
   "source": [
    "#### [2 points] (j) Create a line chart depicting the number of new LNG termianls per year. Include a vertical line for the year 2022 for orientation."
   ]
  },
  {
   "cell_type": "code",
   "execution_count": null,
   "id": "d427557f",
   "metadata": {},
   "outputs": [],
   "source": []
  },
  {
   "cell_type": "markdown",
   "id": "af914d20",
   "metadata": {},
   "source": [
    "#### [5 points] (k) Write a function that takes an extract of the LNG terminals in the geopandas.GeoDataFrame and plots it with the following characteristics:\n",
    "##### • Mercator projection with coastlines displayed.\n",
    "##### • Marker size proportional to capacity (no legend for size necessary)\n",
    "##### • Colors according to status, including a legend.\n",
    "##### • Semi-transparent markers (alpha=0.6)."
   ]
  },
  {
   "cell_type": "code",
   "execution_count": null,
   "id": "5beebc8f",
   "metadata": {},
   "outputs": [],
   "source": []
  },
  {
   "cell_type": "markdown",
   "id": "1bebf4ec",
   "metadata": {},
   "source": [
    "#### [5 points] (l) Use the function you created to plot:\n",
    "• all LNG terminals\n",
    "\n",
    "• only LNG import terminals\n",
    "\n",
    "• only LNG export terminals\n",
    "\n",
    "• only future LNG import terminals (i.e. start year after 2022)\n",
    "• only floating LNG terminals"
   ]
  },
  {
   "cell_type": "code",
   "execution_count": null,
   "id": "8b99e0ee",
   "metadata": {},
   "outputs": [],
   "source": []
  },
  {
   "cell_type": "markdown",
   "id": "79221c9f",
   "metadata": {},
   "source": [
    "## Task 2: Merit Order [42 points]\n",
    "### Required Tools: pandas, matplotlib\n",
    "#### In this task you are asked to build and plot merit order curves for the German day-ahead electricity market given a dataset on operational power plants (link 1) and some additinal carrier-specific data (link 2):\n",
    "##### • https://tubcloud.tu-berlin.de/s/P9qPttqFg3ciKEy/download/powerplants.csv\n",
    "##### • https://tubcloud.tu-berlin.de/s/XjtnxyNPtPP6eDQ/download/technologies.csv\n",
    "#### The attributes contained in the two CSV files have the following units:\n",
    "|Attribute| Description| Unit|\n",
    "|--------------|-----------|------------|\n",
    "|carrier| technology| –\n",
    "|co2_emissions| specific carbon dioxide emissions |t/MWh (thermal)|\n",
    "|color |HEX color code |–|\n",
    "|efficiency |conversion efficieny| MWh (electric) / MWh (thermal)|\n",
    "|marginal_cost |STMGC| €/MWh (electric)|\n",
    "|p_max_pu |capacity factor in particular hour| p.u.|\n",
    "|p_nom |rated/nominal capacity |MW|\n",
    "\n",
    "Assume that all storage has sufficient energy filling levels to dispatch at full capacity.\n",
    "\n",
    "#### [2 points] (a) Read the provided datasets into two separate pandas.DataFrame."
   ]
  },
  {
   "cell_type": "code",
   "execution_count": null,
   "id": "1171412d",
   "metadata": {},
   "outputs": [],
   "source": []
  },
  {
   "cell_type": "markdown",
   "id": "b162775b",
   "metadata": {},
   "source": [
    "### [4 points] (b) Plot a pie chart with the distribution of capacities per technology. Color the chart segments according to the given colors, label the segments with the carrier and its capacity share in % rounded to one decimal point."
   ]
  },
  {
   "cell_type": "code",
   "execution_count": null,
   "id": "b0122f47",
   "metadata": {},
   "outputs": [],
   "source": []
  },
  {
   "cell_type": "markdown",
   "id": "51af6fcb",
   "metadata": {},
   "source": [
    "### [8 points] (c) Write a function for plotting the merit order curve (supply side), by adapting the code from an online tutorial at https://tinyurl.com/plt-merit-order or https://archive.vn/Ljroc.\n",
    "The following criteria should be satisfied:\n",
    "• The function should take two arguments: a pandas.DataFrame for the power plant data, and another for the carrier-specific information.\n",
    " \n",
    "• The bars of the merit order curve should by coloured according to the given technology colors.\n",
    "\n",
    "• The extent of the plot should start at the (0,0) origin and be limited to the highest marginal cost and total power plant capacity.\n",
    "\n",
    "• Axes must be appropriately labelled with units. The preferred unit for the x-axis is GW."
   ]
  },
  {
   "cell_type": "code",
   "execution_count": null,
   "id": "66fe9a0e",
   "metadata": {},
   "outputs": [],
   "source": []
  },
  {
   "cell_type": "markdown",
   "id": "da500105",
   "metadata": {},
   "source": [
    "#### (d) Plot the merit order curve using the function you created for the following cases (i.e. do not duplicate the code for merit order plotting!):\n",
    "[2 points] i. for the marginal costs given in the dataset\n",
    "\n",
    "[2 points] ii. with an added carbon price of 80 €/t𝐶𝑂2 (assume that previously no carbon pricing was included)\n",
    "\n",
    "[2 points] iii. additionally to ii. with a gas price increased by 50 €/MWh𝑡ℎ\n",
    "\n",
    "[2 points] iv. additionally to ii. and iii. without Germany’s nuclear power plant fleet"
   ]
  },
  {
   "cell_type": "code",
   "execution_count": null,
   "id": "64aa2893",
   "metadata": {},
   "outputs": [],
   "source": []
  },
  {
   "cell_type": "markdown",
   "id": "1b3fa2ee",
   "metadata": {},
   "source": [
    "#### (e) For each of the cases, use code to determine for an electricity demand of 70 GW\n",
    "[4 points] i. the market clearing price\n",
    "\n",
    "[2 points] ii. the total power dispatched per technology\n",
    "\n",
    "[2 points] iii. the resulting revenue per technology\n",
    "\n",
    "[2 points] iv. the operational costs per technology\n",
    "\n",
    "[2 points] v. the profits per technology\n",
    "\n",
    "[4 points] vi. the carbon intensity of the system"
   ]
  },
  {
   "cell_type": "code",
   "execution_count": null,
   "id": "0f46327a",
   "metadata": {},
   "outputs": [],
   "source": []
  },
  {
   "cell_type": "markdown",
   "id": "a1ad10a3",
   "metadata": {},
   "source": [
    "#### [4 points] (f) Describe the major differences you observe between the four cases."
   ]
  },
  {
   "cell_type": "code",
   "execution_count": null,
   "id": "d98ace8c",
   "metadata": {},
   "outputs": [],
   "source": []
  },
  {
   "cell_type": "markdown",
   "id": "b12a5c87",
   "metadata": {},
   "source": [
    "## Task 3: Tools for Electricity Market Modelling [28 points]\n",
    "##### Build a simple electricity market model for minimising operational costs within technical constraints for South Africa, Mozambique and Eswatini considering the following information:\n",
    "The operational fleet of power plants in the three countries is specified as follows:\n",
    "\n",
    "|Technology| Country |Marginal Cost [€/MWh] |Capacity [MW]|\n",
    "|----------|---------|----------------------|-------------|\n",
    "|Coal |South Africa |30 |35000|\n",
    "|Wind |South Africa |0 |3000|\n",
    "|Gas |South Africa |60 |8000|\n",
    "|Oil |South Africa |80 |2000|\n",
    "|Hydro Mozambique |3 |1200|\n",
    "|Gas |Mozambique |55 |500|\n",
    "|Hydro |Eswatini |5 |600|\n",
    "\n",
    "The electricity demand in the countries reads as follows:\n",
    "\n",
    "|Country |Demand [MW]|\n",
    "|----------|---------|\n",
    "|South Africa |42000|\n",
    "|Mozambique |650|\n",
    "|Eswatini |250|\n",
    "\n",
    "The transmission capacities read as follows:\n",
    "\n",
    "|Start| End| Capacity [MW]|\n",
    "|----------|---------|---------|\n",
    "|South Africa| Mozambique |500|\n",
    "|Mozambique |Eswatini |100|\n",
    "|South Africa| Eswatini |250|\n",
    "\n",
    "Assume equal reactances for the transmission lines.\n",
    "\n",
    "(a) Build and solve the problem using pyomo. You’ll need to:\n",
    "[3 points] i. create all variables for generation and transmission,\n",
    "\n",
    "[2 points] ii. formulate the objective function for minimising the operaitonal costs,\n",
    "\n",
    "[5 points] iii. build the necessary constraints, including the technical limits of generation and transmission\n",
    "and the Kirchhoff Laws,\n",
    "\n",
    "[2 points] iv. solve the optimisation model with a solver of your choice,\n",
    "\n",
    "[3 points] v. retrieve the generator dispatch, power flows, objective function and market prices. Label\n",
    "units!"
   ]
  },
  {
   "cell_type": "code",
   "execution_count": null,
   "id": "963de7a7",
   "metadata": {},
   "outputs": [],
   "source": []
  },
  {
   "cell_type": "markdown",
   "id": "c2022826",
   "metadata": {},
   "source": [
    "#### [2 points] ii. formulate the objective function for minimising the operaitonal costs,"
   ]
  },
  {
   "cell_type": "code",
   "execution_count": null,
   "id": "51f8899a",
   "metadata": {},
   "outputs": [],
   "source": []
  },
  {
   "cell_type": "markdown",
   "id": "aa4451c1",
   "metadata": {},
   "source": [
    "#### [5 points] iii. build the necessary constraints, including the technical limits of generation and transmission and the Kirchhoff Laws,"
   ]
  },
  {
   "cell_type": "code",
   "execution_count": null,
   "id": "1f1b819f",
   "metadata": {},
   "outputs": [],
   "source": []
  },
  {
   "cell_type": "code",
   "execution_count": null,
   "id": "f374b131",
   "metadata": {},
   "outputs": [],
   "source": []
  }
 ],
 "metadata": {
  "kernelspec": {
   "display_name": "Python 3 (ipykernel)",
   "language": "python",
   "name": "python3"
  },
  "language_info": {
   "codemirror_mode": {
    "name": "ipython",
    "version": 3
   },
   "file_extension": ".py",
   "mimetype": "text/x-python",
   "name": "python",
   "nbconvert_exporter": "python",
   "pygments_lexer": "ipython3",
   "version": "3.9.0"
  }
 },
 "nbformat": 4,
 "nbformat_minor": 5
}
