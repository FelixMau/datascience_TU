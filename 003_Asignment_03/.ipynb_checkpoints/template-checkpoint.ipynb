{
 "cells": [
  {
   "cell_type": "markdown",
   "id": "cbf15eb8",
   "metadata": {},
   "source": [
    "# Assignment 3 - LNG Terminals & Electricity Markets\n",
    "## Task 1: LNG Terminals [30 points]\n",
    "#### Required Tools: geopandas, pandas, matplotlib, cartopy\n",
    "##### In this task, you will analyse data from the Global Gas Infrastructure Tracker published by Global Energy Monitor. This dataset includes data on liquefied natural gas (LNG) import and export terminals around the globe. You can find the dataset here:\n",
    "##### File: https://tubcloud.tu-berlin.de/s/QWXsKqHTnfWxRzj/download/GEM-GGIT-LNG-Terminals-July2022.xlsx\n",
    "##### [2 points] (a) Read the Excel table into a pandas.DataFrame using the pd.read_excel function. Make sure to identify the following strings as NaN values when reading in the file: “Unknown”, “TBD”, “–”, ” “."
   ]
  },
  {
   "cell_type": "code",
   "execution_count": null,
   "id": "b1ed9718",
   "metadata": {},
   "outputs": [],
   "source": []
  },
  {
   "cell_type": "markdown",
   "id": "3559789d",
   "metadata": {},
   "source": [
    "#### [2 points] (b) Using the coordinates included in the dataset, build a geopandas.GeoDataFrame."
   ]
  },
  {
   "cell_type": "code",
   "execution_count": null,
   "id": "a56f5de5",
   "metadata": {},
   "outputs": [],
   "source": []
  },
  {
   "cell_type": "markdown",
   "id": "ddd0e5b3",
   "metadata": {},
   "source": [
    "#### [2 points] (c) Convert the capacities given in Mtpa (mega tonnes per year) into TWh and store the resulting values in a new column “CapacityInTWh”."
   ]
  },
  {
   "cell_type": "code",
   "execution_count": null,
   "id": "1c84de2b",
   "metadata": {},
   "outputs": [],
   "source": []
  },
  {
   "cell_type": "markdown",
   "id": "99d68da6",
   "metadata": {},
   "source": [
    "#### [2 points] (d) How many LNG terminals are included in the dataset and what is the median capacity in TWh?"
   ]
  },
  {
   "cell_type": "code",
   "execution_count": null,
   "id": "3210ec7c",
   "metadata": {},
   "outputs": [],
   "source": []
  },
  {
   "cell_type": "markdown",
   "id": "24b0fd26",
   "metadata": {},
   "source": [
    "#### [2 points] (e) What share of import terminals is floating?"
   ]
  },
  {
   "cell_type": "code",
   "execution_count": null,
   "id": "22e94998",
   "metadata": {},
   "outputs": [],
   "source": []
  },
  {
   "cell_type": "markdown",
   "id": "7818a2a2",
   "metadata": {},
   "source": [
    "#### [2 points] (f) Print the information of the oldest operating LNG terminal. In which country is it located?"
   ]
  },
  {
   "cell_type": "code",
   "execution_count": null,
   "id": "24254104",
   "metadata": {},
   "outputs": [],
   "source": []
  },
  {
   "cell_type": "markdown",
   "id": "cf331b3a",
   "metadata": {},
   "source": [
    "#### [2 points] (g) Create a bar plot outlining the 10 countries with the largest LNG terminal capacity."
   ]
  },
  {
   "cell_type": "code",
   "execution_count": null,
   "id": "daa05f99",
   "metadata": {},
   "outputs": [],
   "source": []
  },
  {
   "cell_type": "markdown",
   "id": "a68db0cc",
   "metadata": {},
   "source": [
    "#### [2 points] (h) Create a bar plot outlining the LNG terminal capacity per status code."
   ]
  },
  {
   "cell_type": "code",
   "execution_count": null,
   "id": "a31214f0",
   "metadata": {},
   "outputs": [],
   "source": []
  },
  {
   "cell_type": "markdown",
   "id": "60767e84",
   "metadata": {},
   "source": [
    "#### [2 points] (i) Create a table of the German LNG terminals including information on the name, status, capacity, owner, whether it is floating, and sorted by aspired start year."
   ]
  },
  {
   "cell_type": "code",
   "execution_count": null,
   "id": "c707fa74",
   "metadata": {},
   "outputs": [],
   "source": []
  },
  {
   "cell_type": "markdown",
   "id": "5f0debad",
   "metadata": {},
   "source": [
    "#### [2 points] (i) Create a table of the German LNG terminals including information on the name, status, capacity, owner, whether it is floating, and sorted by aspired start year."
   ]
  },
  {
   "cell_type": "code",
   "execution_count": null,
   "id": "5d4ad0d6",
   "metadata": {},
   "outputs": [],
   "source": []
  },
  {
   "cell_type": "markdown",
   "id": "e8906a35",
   "metadata": {},
   "source": [
    "#### [2 points] (j) Create a line chart depicting the number of new LNG termianls per year. Include a vertical line for the year 2022 for orientation."
   ]
  },
  {
   "cell_type": "code",
   "execution_count": null,
   "id": "4d91331b",
   "metadata": {},
   "outputs": [],
   "source": []
  },
  {
   "cell_type": "markdown",
   "id": "00f0819e",
   "metadata": {},
   "source": [
    "#### [5 points] (k) Write a function that takes an extract of the LNG terminals in the geopandas.GeoDataFrame and plots it with the following characteristics:\n",
    "• Mercator projection with coastlines displayed.\n",
    "\n",
    "• Marker size proportional to capacity (no legend for size necessary)\n",
    "\n",
    "• Colors according to status, including a legend.\n",
    "\n",
    "• Semi-transparent markers (alpha=0.6)."
   ]
  },
  {
   "cell_type": "code",
   "execution_count": null,
   "id": "b10fcdf7",
   "metadata": {},
   "outputs": [],
   "source": []
  },
  {
   "cell_type": "markdown",
   "id": "5029bd01",
   "metadata": {},
   "source": [
    "#### [5 points] (l) Use the function you created to plot:\n",
    "• all LNG terminals\n",
    "\n",
    "• only LNG import terminals\n",
    "\n",
    "• only LNG export terminals\n",
    "\n",
    "• only future LNG import terminals (i.e. start year after 2022)\n",
    "\n",
    "• only floating LNG terminals"
   ]
  },
  {
   "cell_type": "code",
   "execution_count": null,
   "id": "118bf663",
   "metadata": {},
   "outputs": [],
   "source": []
  },
  {
   "cell_type": "markdown",
   "id": "74a488de",
   "metadata": {},
   "source": [
    "## Task 2: Merit Order [42 points]\n",
    "### Required Tools: pandas, matplotlib\n",
    "#### In this task you are asked to build and plot merit order curves for the German day-ahead electricity market given a dataset on operational power plants (link 1) and some additinal carrier-specific data (link 2):\n",
    "##### • https://tubcloud.tu-berlin.de/s/P9qPttqFg3ciKEy/download/powerplants.csv\n",
    "##### • https://tubcloud.tu-berlin.de/s/XjtnxyNPtPP6eDQ/download/technologies.csv\n",
    "#### The attributes contained in the two CSV files have the following units:\n",
    "|Attribute| Description| Unit|\n",
    "|--------------|-----------|------------|\n",
    "|carrier| technology| –\n",
    "|co2_emissions| specific carbon dioxide emissions |t/MWh (thermal)|\n",
    "|color |HEX color code |–|\n",
    "|efficiency |conversion efficieny| MWh (electric) / MWh (thermal)|\n",
    "|marginal_cost |STMGC| €/MWh (electric)|\n",
    "|p_max_pu |capacity factor in particular hour| p.u.|\n",
    "|p_nom |rated/nominal capacity |MW|\n",
    "\n",
    "Assume that all storage has sufficient energy filling levels to dispatch at full capacity.\n",
    "\n",
    "#### [2 points] (a) Read the provided datasets into two separate pandas.DataFrame."
   ]
  },
  {
   "cell_type": "code",
   "execution_count": null,
   "id": "bbaeb50d",
   "metadata": {},
   "outputs": [],
   "source": []
  },
  {
   "cell_type": "markdown",
   "id": "a418e7e5",
   "metadata": {},
   "source": [
    "### [4 points] (b) Plot a pie chart with the distribution of capacities per technology. Color the chart segments according to the given colors, label the segments with the carrier and its capacity share in % rounded to one decimal point."
   ]
  },
  {
   "cell_type": "code",
   "execution_count": null,
   "id": "f61d5700",
   "metadata": {},
   "outputs": [],
   "source": []
  },
  {
   "cell_type": "markdown",
   "id": "50198322",
   "metadata": {},
   "source": [
    "### [8 points] (c) Write a function for plotting the merit order curve (supply side), by adapting the code from an online tutorial at https://tinyurl.com/plt-merit-order or https://archive.vn/Ljroc.\n",
    "The following criteria should be satisfied:\n",
    "• The function should take two arguments: a pandas.DataFrame for the power plant data, and another for the carrier-specific information.\n",
    " \n",
    "• The bars of the merit order curve should by coloured according to the given technology colors.\n",
    "\n",
    "• The extent of the plot should start at the (0,0) origin and be limited to the highest marginal cost and total power plant capacity.\n",
    "\n",
    "• Axes must be appropriately labelled with units. The preferred unit for the x-axis is GW."
   ]
  },
  {
   "cell_type": "code",
   "execution_count": null,
   "id": "2d01cdf7",
   "metadata": {},
   "outputs": [],
   "source": []
  },
  {
   "cell_type": "markdown",
   "id": "383c3b02",
   "metadata": {},
   "source": [
    "#### (d) Plot the merit order curve using the function you created for the following cases (i.e. do not duplicate the code for merit order plotting!):\n",
    "[2 points] i. for the marginal costs given in the dataset\n",
    "\n",
    "[2 points] ii. with an added carbon price of 80 €/t𝐶𝑂2 (assume that previously no carbon pricing was included)\n",
    "\n",
    "[2 points] iii. additionally to ii. with a gas price increased by 50 €/MWh𝑡ℎ\n",
    "\n",
    "[2 points] iv. additionally to ii. and iii. without Germany’s nuclear power plant fleet"
   ]
  },
  {
   "cell_type": "code",
   "execution_count": null,
   "id": "70340ad2",
   "metadata": {},
   "outputs": [],
   "source": []
  },
  {
   "cell_type": "markdown",
   "id": "667069de",
   "metadata": {},
   "source": [
    "#### (e) For each of the cases, use code to determine for an electricity demand of 70 GW\n",
    "[4 points] i. the market clearing price\n",
    "\n",
    "[2 points] ii. the total power dispatched per technology\n",
    "\n",
    "[2 points] iii. the resulting revenue per technology\n",
    "\n",
    "[2 points] iv. the operational costs per technology\n",
    "\n",
    "[2 points] v. the profits per technology\n",
    "\n",
    "[4 points] vi. the carbon intensity of the system"
   ]
  },
  {
   "cell_type": "code",
   "execution_count": null,
   "id": "af309224",
   "metadata": {},
   "outputs": [],
   "source": []
  },
  {
   "cell_type": "markdown",
   "id": "271125af",
   "metadata": {},
   "source": [
    "#### [4 points] (f) Describe the major differences you observe between the four cases."
   ]
  },
  {
   "cell_type": "code",
   "execution_count": null,
   "id": "80f4a17d",
   "metadata": {},
   "outputs": [],
   "source": []
  },
  {
   "cell_type": "markdown",
   "id": "dca36d30",
   "metadata": {},
   "source": [
    "## Task 3: Tools for Electricity Market Modelling [28 points]\n",
    "##### Build a simple electricity market model for minimising operational costs within technical constraints for South Africa, Mozambique and Eswatini considering the following information:\n",
    "The operational fleet of power plants in the three countries is specified as follows:\n",
    "\n",
    "|Technology| Country |Marginal Cost [€/MWh] |Capacity [MW]|\n",
    "|----------|---------|----------------------|-------------|\n",
    "|Coal |South Africa |30 |35000|\n",
    "|Wind |South Africa |0 |3000|\n",
    "|Gas |South Africa |60 |8000|\n",
    "|Oil |South Africa |80 |2000|\n",
    "|Hydro Mozambique |3 |1200|\n",
    "|Gas |Mozambique |55 |500|\n",
    "|Hydro |Eswatini |5 |600|\n",
    "\n",
    "The electricity demand in the countries reads as follows:\n",
    "\n",
    "|Country |Demand [MW]|\n",
    "|----------|---------|\n",
    "|South Africa |42000|\n",
    "|Mozambique |650|\n",
    "|Eswatini |250|\n",
    "\n",
    "The transmission capacities read as follows:\n",
    "\n",
    "|Start| End| Capacity [MW]|\n",
    "|----------|---------|---------|\n",
    "|South Africa| Mozambique |500|\n",
    "|Mozambique |Eswatini |100|\n",
    "|South Africa| Eswatini |250|\n",
    "\n",
    "Assume equal reactances for the transmission lines.\n",
    "\n",
    "(a) Build and solve the problem using pyomo. You’ll need to:\n",
    "[3 points] i. create all variables for generation and transmission,\n",
    "\n",
    "[2 points] ii. formulate the objective function for minimising the operaitonal costs,\n",
    "\n",
    "[5 points] iii. build the necessary constraints, including the technical limits of generation and transmission\n",
    "and the Kirchhoff Laws,\n",
    "\n",
    "[2 points] iv. solve the optimisation model with a solver of your choice,\n",
    "\n",
    "[3 points] v. retrieve the generator dispatch, power flows, objective function and market prices. Label\n",
    "units!"
   ]
  },
  {
   "cell_type": "code",
   "execution_count": null,
   "id": "2ac55f4d",
   "metadata": {},
   "outputs": [],
   "source": []
  },
  {
   "cell_type": "markdown",
   "id": "791a0dba",
   "metadata": {},
   "source": [
    "#### (b) Build and solve the same problem in PyPSA. You’ll need to:\n",
    "\n",
    "[1 point] i. create a new network,\n",
    "\n",
    "[5 points] ii. add the generators, lines, and loads to the network,\n",
    "\n",
    "[2 points] iii. olve the built network with a solver of your choice,\n",
    "\n",
    "[3 points] iv. retrieve the generator dispatch, power flows, objective function and market prices. Label\n",
    "units!"
   ]
  },
  {
   "cell_type": "code",
   "execution_count": null,
   "id": "424bf187",
   "metadata": {},
   "outputs": [],
   "source": []
  },
  {
   "cell_type": "markdown",
   "id": "1d9fe078",
   "metadata": {},
   "source": [
    "#### [2 points] (c) Check that bothmodels yield the same generator dispatch, objective function, andmarket prices."
   ]
  },
  {
   "cell_type": "code",
   "execution_count": null,
   "id": "bb281c41",
   "metadata": {},
   "outputs": [],
   "source": []
  }
 ],
 "metadata": {
  "kernelspec": {
   "display_name": "Python 3 (ipykernel)",
   "language": "python",
   "name": "python3"
  },
  "language_info": {
   "codemirror_mode": {
    "name": "ipython",
    "version": 3
   },
   "file_extension": ".py",
   "mimetype": "text/x-python",
   "name": "python",
   "nbconvert_exporter": "python",
   "pygments_lexer": "ipython3",
   "version": "3.9.0"
  }
 },
 "nbformat": 4,
 "nbformat_minor": 5
}
